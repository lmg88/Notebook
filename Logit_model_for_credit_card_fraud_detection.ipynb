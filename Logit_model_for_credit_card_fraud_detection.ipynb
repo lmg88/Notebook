{
 "cells": [
  {
   "cell_type": "markdown",
   "metadata": {},
   "source": [
    "# Logit Model for credit Card Fraud Detection"
   ]
  },
  {
   "cell_type": "markdown",
   "metadata": {
    "_cell_guid": "9827a36b-481c-48cf-9f0f-7464355aa6aa",
    "_execution_state": "idle",
    "_uuid": "8052b212464e026c197ec6efa2d0cd199faacffc"
   },
   "source": [
    "One of the main problem in economic and financial modelling is related to the interpretability of results. For this reason, it's necessary looking for a trade off between flexibility and interpretability of the models.\n",
    "Flexible methods like Neural Networks and SVM provides an high accuracy but they are in fact \"black boxes\".\n",
    "So, in this case i used a logit model \n"
   ]
  },
  {
   "cell_type": "code",
   "execution_count": 1,
   "metadata": {
    "_cell_guid": "974bc659-bbae-4d06-bc46-88c354b4fbad",
    "_execution_state": "idle",
    "_uuid": "5eced4ff0d7859fc33d051765ca0b31280e7e331"
   },
   "outputs": [
    {
     "data": {
      "text/html": [
       "'creditcard.csv'"
      ],
      "text/latex": [
       "'creditcard.csv'"
      ],
      "text/markdown": [
       "'creditcard.csv'"
      ],
      "text/plain": [
       "[1] \"creditcard.csv\""
      ]
     },
     "metadata": {},
     "output_type": "display_data"
    }
   ],
   "source": [
    "system(\"ls ../input\", intern=TRUE)"
   ]
  },
  {
   "cell_type": "code",
   "execution_count": 2,
   "metadata": {
    "_cell_guid": "3da255e0-d881-4d02-87c6-65d74e8b4a69",
    "_execution_state": "idle",
    "_uuid": "674d423b616ed44c82bd00946ba7b90dd835a9e4"
   },
   "outputs": [
    {
     "name": "stderr",
     "output_type": "stream",
     "text": [
      "Type 'citation(\"pROC\")' for a citation.\n",
      "\n",
      "Attaching package: ‘pROC’\n",
      "\n",
      "The following objects are masked from ‘package:stats’:\n",
      "\n",
      "    cov, smooth, var\n",
      "\n"
     ]
    }
   ],
   "source": [
    "library(readr)\n",
    "library(caTools)\n",
    "library(pROC)\n",
    "library(ggplot2)\n",
    "library(questionr)"
   ]
  },
  {
   "cell_type": "code",
   "execution_count": 3,
   "metadata": {
    "_cell_guid": "871faf52-feb2-4bf1-b452-0530501a6a79",
    "_execution_state": "idle",
    "_uuid": "64086db886f30a699ed91c4a7fe0ea3f3a155339"
   },
   "outputs": [
    {
     "name": "stderr",
     "output_type": "stream",
     "text": [
      "Parsed with column specification:\n",
      "cols(\n",
      "  .default = col_double()\n",
      ")\n",
      "See spec(...) for full column specifications.\n"
     ]
    },
    {
     "name": "stdout",
     "output_type": "stream",
     "text": [
      "Classes ‘tbl_df’, ‘tbl’ and 'data.frame':\t284807 obs. of  31 variables:\n",
      " $ Time  : num  0 0 1 1 2 2 4 7 7 9 ...\n",
      " $ V1    : num  -1.36 1.192 -1.358 -0.966 -1.158 ...\n",
      " $ V2    : num  -0.0728 0.2662 -1.3402 -0.1852 0.8777 ...\n",
      " $ V3    : num  2.536 0.166 1.773 1.793 1.549 ...\n",
      " $ V4    : num  1.378 0.448 0.38 -0.863 0.403 ...\n",
      " $ V5    : num  -0.3383 0.06 -0.5032 -0.0103 -0.4072 ...\n",
      " $ V6    : num  0.4624 -0.0824 1.8005 1.2472 0.0959 ...\n",
      " $ V7    : num  0.2396 -0.0788 0.7915 0.2376 0.5929 ...\n",
      " $ V8    : num  0.0987 0.0851 0.2477 0.3774 -0.2705 ...\n",
      " $ V9    : num  0.364 -0.255 -1.515 -1.387 0.818 ...\n",
      " $ V10   : num  0.0908 -0.167 0.2076 -0.055 0.7531 ...\n",
      " $ V11   : num  -0.552 1.613 0.625 -0.226 -0.823 ...\n",
      " $ V12   : num  -0.6178 1.0652 0.0661 0.1782 0.5382 ...\n",
      " $ V13   : num  -0.991 0.489 0.717 0.508 1.346 ...\n",
      " $ V14   : num  -0.311 -0.144 -0.166 -0.288 -1.12 ...\n",
      " $ V15   : num  1.468 0.636 2.346 -0.631 0.175 ...\n",
      " $ V16   : num  -0.47 0.464 -2.89 -1.06 -0.451 ...\n",
      " $ V17   : num  0.208 -0.115 1.11 -0.684 -0.237 ...\n",
      " $ V18   : num  0.0258 -0.1834 -0.1214 1.9658 -0.0382 ...\n",
      " $ V19   : num  0.404 -0.146 -2.262 -1.233 0.803 ...\n",
      " $ V20   : num  0.2514 -0.0691 0.525 -0.208 0.4085 ...\n",
      " $ V21   : num  -0.01831 -0.22578 0.248 -0.1083 -0.00943 ...\n",
      " $ V22   : num  0.27784 -0.63867 0.77168 0.00527 0.79828 ...\n",
      " $ V23   : num  -0.11 0.101 0.909 -0.19 -0.137 ...\n",
      " $ V24   : num  0.0669 -0.3398 -0.6893 -1.1756 0.1413 ...\n",
      " $ V25   : num  0.129 0.167 -0.328 0.647 -0.206 ...\n",
      " $ V26   : num  -0.189 0.126 -0.139 -0.222 0.502 ...\n",
      " $ V27   : num  0.13356 -0.00898 -0.05535 0.06272 0.21942 ...\n",
      " $ V28   : num  -0.0211 0.0147 -0.0598 0.0615 0.2152 ...\n",
      " $ Amount: num  149.62 2.69 378.66 123.5 69.99 ...\n",
      " $ Class : num  0 0 0 0 0 0 0 0 0 0 ...\n",
      " - attr(*, \"spec\")=List of 2\n",
      "  ..$ cols   :List of 31\n",
      "  .. ..$ Time  : list()\n",
      "  .. .. ..- attr(*, \"class\")= chr  \"collector_double\" \"collector\"\n",
      "  .. ..$ V1    : list()\n",
      "  .. .. ..- attr(*, \"class\")= chr  \"collector_double\" \"collector\"\n",
      "  .. ..$ V2    : list()\n",
      "  .. .. ..- attr(*, \"class\")= chr  \"collector_double\" \"collector\"\n",
      "  .. ..$ V3    : list()\n",
      "  .. .. ..- attr(*, \"class\")= chr  \"collector_double\" \"collector\"\n",
      "  .. ..$ V4    : list()\n",
      "  .. .. ..- attr(*, \"class\")= chr  \"collector_double\" \"collector\"\n",
      "  .. ..$ V5    : list()\n",
      "  .. .. ..- attr(*, \"class\")= chr  \"collector_double\" \"collector\"\n",
      "  .. ..$ V6    : list()\n",
      "  .. .. ..- attr(*, \"class\")= chr  \"collector_double\" \"collector\"\n",
      "  .. ..$ V7    : list()\n",
      "  .. .. ..- attr(*, \"class\")= chr  \"collector_double\" \"collector\"\n",
      "  .. ..$ V8    : list()\n",
      "  .. .. ..- attr(*, \"class\")= chr  \"collector_double\" \"collector\"\n",
      "  .. ..$ V9    : list()\n",
      "  .. .. ..- attr(*, \"class\")= chr  \"collector_double\" \"collector\"\n",
      "  .. ..$ V10   : list()\n",
      "  .. .. ..- attr(*, \"class\")= chr  \"collector_double\" \"collector\"\n",
      "  .. ..$ V11   : list()\n",
      "  .. .. ..- attr(*, \"class\")= chr  \"collector_double\" \"collector\"\n",
      "  .. ..$ V12   : list()\n",
      "  .. .. ..- attr(*, \"class\")= chr  \"collector_double\" \"collector\"\n",
      "  .. ..$ V13   : list()\n",
      "  .. .. ..- attr(*, \"class\")= chr  \"collector_double\" \"collector\"\n",
      "  .. ..$ V14   : list()\n",
      "  .. .. ..- attr(*, \"class\")= chr  \"collector_double\" \"collector\"\n",
      "  .. ..$ V15   : list()\n",
      "  .. .. ..- attr(*, \"class\")= chr  \"collector_double\" \"collector\"\n",
      "  .. ..$ V16   : list()\n",
      "  .. .. ..- attr(*, \"class\")= chr  \"collector_double\" \"collector\"\n",
      "  .. ..$ V17   : list()\n",
      "  .. .. ..- attr(*, \"class\")= chr  \"collector_double\" \"collector\"\n",
      "  .. ..$ V18   : list()\n",
      "  .. .. ..- attr(*, \"class\")= chr  \"collector_double\" \"collector\"\n",
      "  .. ..$ V19   : list()\n",
      "  .. .. ..- attr(*, \"class\")= chr  \"collector_double\" \"collector\"\n",
      "  .. ..$ V20   : list()\n",
      "  .. .. ..- attr(*, \"class\")= chr  \"collector_double\" \"collector\"\n",
      "  .. ..$ V21   : list()\n",
      "  .. .. ..- attr(*, \"class\")= chr  \"collector_double\" \"collector\"\n",
      "  .. ..$ V22   : list()\n",
      "  .. .. ..- attr(*, \"class\")= chr  \"collector_double\" \"collector\"\n",
      "  .. ..$ V23   : list()\n",
      "  .. .. ..- attr(*, \"class\")= chr  \"collector_double\" \"collector\"\n",
      "  .. ..$ V24   : list()\n",
      "  .. .. ..- attr(*, \"class\")= chr  \"collector_double\" \"collector\"\n",
      "  .. ..$ V25   : list()\n",
      "  .. .. ..- attr(*, \"class\")= chr  \"collector_double\" \"collector\"\n",
      "  .. ..$ V26   : list()\n",
      "  .. .. ..- attr(*, \"class\")= chr  \"collector_double\" \"collector\"\n",
      "  .. ..$ V27   : list()\n",
      "  .. .. ..- attr(*, \"class\")= chr  \"collector_double\" \"collector\"\n",
      "  .. ..$ V28   : list()\n",
      "  .. .. ..- attr(*, \"class\")= chr  \"collector_double\" \"collector\"\n",
      "  .. ..$ Amount: list()\n",
      "  .. .. ..- attr(*, \"class\")= chr  \"collector_double\" \"collector\"\n",
      "  .. ..$ Class : list()\n",
      "  .. .. ..- attr(*, \"class\")= chr  \"collector_double\" \"collector\"\n",
      "  ..$ default: list()\n",
      "  .. ..- attr(*, \"class\")= chr  \"collector_guess\" \"collector\"\n",
      "  ..- attr(*, \"class\")= chr \"col_spec\"\n"
     ]
    }
   ],
   "source": [
    "creditcard <- read_csv(\"../input/creditcard.csv\")\n",
    "str(creditcard)\n",
    "attach(creditcard)"
   ]
  },
  {
   "cell_type": "code",
   "execution_count": 4,
   "metadata": {
    "_cell_guid": "1653290f-1d82-4742-a8fc-175d6d6f7a52",
    "_execution_state": "idle",
    "_uuid": "6fe6652a5b01d1ba6ec0d10718c5b3f6b66f7dbf"
   },
   "outputs": [
    {
     "data": {
      "text/plain": [
       "      Time              V1                  V2                  V3          \n",
       " Min.   :     0   Min.   :-56.40751   Min.   :-72.71573   Min.   :-48.3256  \n",
       " 1st Qu.: 54202   1st Qu.: -0.92037   1st Qu.: -0.59855   1st Qu.: -0.8904  \n",
       " Median : 84692   Median :  0.01811   Median :  0.06549   Median :  0.1799  \n",
       " Mean   : 94814   Mean   :  0.00000   Mean   :  0.00000   Mean   :  0.0000  \n",
       " 3rd Qu.:139320   3rd Qu.:  1.31564   3rd Qu.:  0.80372   3rd Qu.:  1.0272  \n",
       " Max.   :172792   Max.   :  2.45493   Max.   : 22.05773   Max.   :  9.3826  \n",
       "       V4                 V5                   V6                 V7          \n",
       " Min.   :-5.68317   Min.   :-113.74331   Min.   :-26.1605   Min.   :-43.5572  \n",
       " 1st Qu.:-0.84864   1st Qu.:  -0.69160   1st Qu.: -0.7683   1st Qu.: -0.5541  \n",
       " Median :-0.01985   Median :  -0.05434   Median : -0.2742   Median :  0.0401  \n",
       " Mean   : 0.00000   Mean   :   0.00000   Mean   :  0.0000   Mean   :  0.0000  \n",
       " 3rd Qu.: 0.74334   3rd Qu.:   0.61193   3rd Qu.:  0.3986   3rd Qu.:  0.5704  \n",
       " Max.   :16.87534   Max.   :  34.80167   Max.   : 73.3016   Max.   :120.5895  \n",
       "       V8                  V9                 V10                 V11          \n",
       " Min.   :-73.21672   Min.   :-13.43407   Min.   :-24.58826   Min.   :-4.79747  \n",
       " 1st Qu.: -0.20863   1st Qu.: -0.64310   1st Qu.: -0.53543   1st Qu.:-0.76249  \n",
       " Median :  0.02236   Median : -0.05143   Median : -0.09292   Median :-0.03276  \n",
       " Mean   :  0.00000   Mean   :  0.00000   Mean   :  0.00000   Mean   : 0.00000  \n",
       " 3rd Qu.:  0.32735   3rd Qu.:  0.59714   3rd Qu.:  0.45392   3rd Qu.: 0.73959  \n",
       " Max.   : 20.00721   Max.   : 15.59500   Max.   : 23.74514   Max.   :12.01891  \n",
       "      V12                V13                V14                V15          \n",
       " Min.   :-18.6837   Min.   :-5.79188   Min.   :-19.2143   Min.   :-4.49894  \n",
       " 1st Qu.: -0.4056   1st Qu.:-0.64854   1st Qu.: -0.4256   1st Qu.:-0.58288  \n",
       " Median :  0.1400   Median :-0.01357   Median :  0.0506   Median : 0.04807  \n",
       " Mean   :  0.0000   Mean   : 0.00000   Mean   :  0.0000   Mean   : 0.00000  \n",
       " 3rd Qu.:  0.6182   3rd Qu.: 0.66251   3rd Qu.:  0.4931   3rd Qu.: 0.64882  \n",
       " Max.   :  7.8484   Max.   : 7.12688   Max.   : 10.5268   Max.   : 8.87774  \n",
       "      V16                 V17                 V18           \n",
       " Min.   :-14.12985   Min.   :-25.16280   Min.   :-9.498746  \n",
       " 1st Qu.: -0.46804   1st Qu.: -0.48375   1st Qu.:-0.498850  \n",
       " Median :  0.06641   Median : -0.06568   Median :-0.003636  \n",
       " Mean   :  0.00000   Mean   :  0.00000   Mean   : 0.000000  \n",
       " 3rd Qu.:  0.52330   3rd Qu.:  0.39968   3rd Qu.: 0.500807  \n",
       " Max.   : 17.31511   Max.   :  9.25353   Max.   : 5.041069  \n",
       "      V19                 V20                 V21           \n",
       " Min.   :-7.213527   Min.   :-54.49772   Min.   :-34.83038  \n",
       " 1st Qu.:-0.456299   1st Qu.: -0.21172   1st Qu.: -0.22839  \n",
       " Median : 0.003735   Median : -0.06248   Median : -0.02945  \n",
       " Mean   : 0.000000   Mean   :  0.00000   Mean   :  0.00000  \n",
       " 3rd Qu.: 0.458949   3rd Qu.:  0.13304   3rd Qu.:  0.18638  \n",
       " Max.   : 5.591971   Max.   : 39.42090   Max.   : 27.20284  \n",
       "      V22                  V23                 V24          \n",
       " Min.   :-10.933144   Min.   :-44.80774   Min.   :-2.83663  \n",
       " 1st Qu.: -0.542350   1st Qu.: -0.16185   1st Qu.:-0.35459  \n",
       " Median :  0.006782   Median : -0.01119   Median : 0.04098  \n",
       " Mean   :  0.000000   Mean   :  0.00000   Mean   : 0.00000  \n",
       " 3rd Qu.:  0.528554   3rd Qu.:  0.14764   3rd Qu.: 0.43953  \n",
       " Max.   : 10.503090   Max.   : 22.52841   Max.   : 4.58455  \n",
       "      V25                 V26                V27            \n",
       " Min.   :-10.29540   Min.   :-2.60455   Min.   :-22.565679  \n",
       " 1st Qu.: -0.31715   1st Qu.:-0.32698   1st Qu.: -0.070840  \n",
       " Median :  0.01659   Median :-0.05214   Median :  0.001342  \n",
       " Mean   :  0.00000   Mean   : 0.00000   Mean   :  0.000000  \n",
       " 3rd Qu.:  0.35072   3rd Qu.: 0.24095   3rd Qu.:  0.091045  \n",
       " Max.   :  7.51959   Max.   : 3.51735   Max.   : 31.612198  \n",
       "      V28                Amount             Class         \n",
       " Min.   :-15.43008   Min.   :    0.00   Min.   :0.000000  \n",
       " 1st Qu.: -0.05296   1st Qu.:    5.60   1st Qu.:0.000000  \n",
       " Median :  0.01124   Median :   22.00   Median :0.000000  \n",
       " Mean   :  0.00000   Mean   :   88.35   Mean   :0.001728  \n",
       " 3rd Qu.:  0.07828   3rd Qu.:   77.17   3rd Qu.:0.000000  \n",
       " Max.   : 33.84781   Max.   :25691.16   Max.   :1.000000  "
      ]
     },
     "metadata": {},
     "output_type": "display_data"
    }
   ],
   "source": [
    "summary(creditcard)"
   ]
  },
  {
   "cell_type": "code",
   "execution_count": 5,
   "metadata": {
    "_cell_guid": "96185304-93f9-48d4-be6a-f8c71094f605",
    "_execution_state": "idle",
    "_uuid": "80bf55ac7cddbe558d1b2e16776bc121fd3e9f0a"
   },
   "outputs": [
    {
     "data": {},
     "metadata": {},
     "output_type": "display_data"
    },
    {
     "data": {
      "image/png": "[encoded data removed]"
     },
     "metadata": {},
     "output_type": "display_data"
    }
   ],
   "source": [
    "ggplot(creditcard, aes(Class))+geom_bar()"
   ]
  },
  {
   "cell_type": "code",
   "execution_count": 6,
   "metadata": {
    "_cell_guid": "40230a7f-3cfb-484e-8e41-b41bb4e8aa9e",
    "_execution_state": "idle",
    "_uuid": "95945b415be474f15194cbc3206d9d017af5d8ee"
   },
   "outputs": [],
   "source": [
    "Class<-as.factor(creditcard$Class)\n",
    "creditcard <- creditcard[, !(names(creditcard) == \"Time\")]"
   ]
  },
  {
   "cell_type": "code",
   "execution_count": 7,
   "metadata": {
    "_cell_guid": "b969ee2d-08a9-4692-9526-6baeaa150642",
    "_execution_state": "idle",
    "_uuid": "91f98c4d99fcd0e690ef77b236cc334b3111c441"
   },
   "outputs": [],
   "source": [
    "split<-sample.split(Class, SplitRatio = 0.6)\n",
    "test<-subset(creditcard, split==T)\n",
    "train<-subset(creditcard, split==F)"
   ]
  },
  {
   "cell_type": "code",
   "execution_count": 8,
   "metadata": {
    "_cell_guid": "48e378d8-4112-4851-897f-114e452820bc",
    "_execution_state": "idle",
    "_uuid": "16d10b69f384cb54b7075d9d3995c169fca5760a"
   },
   "outputs": [
    {
     "data": {
      "text/plain": [
       "\n",
       "     0      1 \n",
       "113726    197 "
      ]
     },
     "metadata": {},
     "output_type": "display_data"
    },
    {
     "data": {
      "text/plain": [
       "\n",
       "     0      1 \n",
       "170589    295 "
      ]
     },
     "metadata": {},
     "output_type": "display_data"
    }
   ],
   "source": [
    "table(train$Class)\n",
    "table(test$Class)\n"
   ]
  },
  {
   "cell_type": "markdown",
   "metadata": {
    "_cell_guid": "d4fd6e10-c3bf-4977-96c6-f54268300a0a",
    "_execution_state": "idle",
    "_uuid": "55af1dd3a0fd4a0cc918bf04bc7f0543b439955f"
   },
   "source": [
    "**Logit Model**"
   ]
  },
  {
   "cell_type": "code",
   "execution_count": 9,
   "metadata": {
    "_cell_guid": "67b37ea2-bc39-4658-9b60-b3fcc0e7ddd2",
    "_execution_state": "idle",
    "_uuid": "42c7bdc3ed960b51982cc53f530e0e29fa818816"
   },
   "outputs": [],
   "source": [
    "model1<-glm(train$Class~.,data = train, family = binomial(link=\"logit\"))\n",
    "model2<-glm(test$Class~.,data = test, family = binomial(link = \"logit\"))"
   ]
  },
  {
   "cell_type": "code",
   "execution_count": 10,
   "metadata": {
    "_cell_guid": "4635d1fd-0b38-4660-a3eb-3fa9d56a5ae3",
    "_execution_state": "idle",
    "_uuid": "0acd11602006af7fed5bb1cb8bb0c3a8829f8c47"
   },
   "outputs": [
    {
     "data": {
      "text/plain": [
       "\n",
       "Call:\n",
       "glm(formula = train$Class ~ ., family = binomial(link = \"logit\"), \n",
       "    data = train)\n",
       "\n",
       "Deviance Residuals: \n",
       "    Min       1Q   Median       3Q      Max  \n",
       "-4.8855  -0.0282  -0.0184  -0.0120   4.5976  \n",
       "\n",
       "Coefficients:\n",
       "              Estimate Std. Error z value Pr(>|z|)    \n",
       "(Intercept) -8.8379657  0.2372106 -37.258  < 2e-16 ***\n",
       "V1           0.1003517  0.0651316   1.541 0.123377    \n",
       "V2          -0.0775914  0.0720148  -1.077 0.281285    \n",
       "V3           0.0443935  0.0740914   0.599 0.549058    \n",
       "V4           0.5940690  0.1020998   5.819 5.94e-09 ***\n",
       "V5           0.0218023  0.0985279   0.221 0.824874    \n",
       "V6          -0.1204767  0.1226390  -0.982 0.325918    \n",
       "V7          -0.1088112  0.0954910  -1.139 0.254498    \n",
       "V8          -0.1858695  0.0602334  -3.086 0.002030 ** \n",
       "V9          -0.4815315  0.1680073  -2.866 0.004155 ** \n",
       "V10         -0.7239234  0.1429080  -5.066 4.07e-07 ***\n",
       "V11          0.0517468  0.1267426   0.408 0.683066    \n",
       "V12          0.1165369  0.1304013   0.894 0.371494    \n",
       "V13         -0.3708616  0.1361990  -2.723 0.006470 ** \n",
       "V14         -0.7229025  0.1012376  -7.141 9.29e-13 ***\n",
       "V15         -0.0403995  0.1373083  -0.294 0.768586    \n",
       "V16         -0.1043522  0.1810656  -0.576 0.564397    \n",
       "V17          0.0047030  0.1052346   0.045 0.964354    \n",
       "V18         -0.0228690  0.1872313  -0.122 0.902786    \n",
       "V19          0.1712948  0.1491332   1.149 0.250720    \n",
       "V20         -0.4113928  0.1377716  -2.986 0.002826 ** \n",
       "V21          0.4079245  0.1019796   4.000 6.33e-05 ***\n",
       "V22          0.6729618  0.1996663   3.370 0.000751 ***\n",
       "V23         -0.0253827  0.0888792  -0.286 0.775195    \n",
       "V24          0.4075270  0.2415696   1.687 0.091604 .  \n",
       "V25         -0.2735365  0.2078343  -1.316 0.188131    \n",
       "V26         -0.6675420  0.3346560  -1.995 0.046074 *  \n",
       "V27         -0.6070530  0.2253626  -2.694 0.007067 ** \n",
       "V28         -0.1992956  0.1302546  -1.530 0.126005    \n",
       "Amount       0.0007900  0.0004874   1.621 0.105077    \n",
       "---\n",
       "Signif. codes:  0 ‘***’ 0.001 ‘**’ 0.01 ‘*’ 0.05 ‘.’ 0.1 ‘ ’ 1\n",
       "\n",
       "(Dispersion parameter for binomial family taken to be 1)\n",
       "\n",
       "    Null deviance: 2899.53  on 113922  degrees of freedom\n",
       "Residual deviance:  837.79  on 113893  degrees of freedom\n",
       "AIC: 897.79\n",
       "\n",
       "Number of Fisher Scoring iterations: 11\n"
      ]
     },
     "metadata": {},
     "output_type": "display_data"
    },
    {
     "data": {
      "text/plain": [
       "\n",
       "Call:\n",
       "glm(formula = test$Class ~ ., family = binomial(link = \"logit\"), \n",
       "    data = test)\n",
       "\n",
       "Deviance Residuals: \n",
       "    Min       1Q   Median       3Q      Max  \n",
       "-4.8383  -0.0297  -0.0189  -0.0111   4.4552  \n",
       "\n",
       "Coefficients:\n",
       "              Estimate Std. Error z value Pr(>|z|)    \n",
       "(Intercept) -8.9264609  0.2409154 -37.052  < 2e-16 ***\n",
       "V1           0.0648790  0.0574948   1.128 0.259137    \n",
       "V2           0.1632738  0.1082961   1.508 0.131641    \n",
       "V3           0.0432813  0.0610691   0.709 0.478494    \n",
       "V4           0.8451853  0.1325048   6.379 1.79e-10 ***\n",
       "V5           0.2087404  0.1026403   2.034 0.041981 *  \n",
       "V6          -0.1527833  0.0990922  -1.542 0.123115    \n",
       "V7          -0.0764858  0.1074365  -0.712 0.476516    \n",
       "V8          -0.1636509  0.0406872  -4.022 5.77e-05 ***\n",
       "V9           0.0021153  0.1801798   0.012 0.990633    \n",
       "V10         -0.8668303  0.1547542  -5.601 2.13e-08 ***\n",
       "V11         -0.0357260  0.0958576  -0.373 0.709373    \n",
       "V12          0.0972974  0.1360731   0.715 0.474586    \n",
       "V13         -0.3173035  0.1025665  -3.094 0.001977 ** \n",
       "V14         -0.4413707  0.0875068  -5.044 4.56e-07 ***\n",
       "V15         -0.0873157  0.1124804  -0.776 0.437587    \n",
       "V16         -0.3178917  0.1897996  -1.675 0.093958 .  \n",
       "V17         -0.0663692  0.1081361  -0.614 0.539377    \n",
       "V18          0.0250571  0.1984132   0.126 0.899504    \n",
       "V19         -0.0081074  0.1384027  -0.059 0.953288    \n",
       "V20         -0.4822845  0.1064906  -4.529 5.93e-06 ***\n",
       "V21          0.3075710  0.0791673   3.885 0.000102 ***\n",
       "V22          0.4943809  0.1796080   2.753 0.005913 ** \n",
       "V23         -0.0882991  0.0865769  -1.020 0.307779    \n",
       "V24         -0.0255410  0.1903332  -0.134 0.893252    \n",
       "V25          0.1474326  0.1710933   0.862 0.388848    \n",
       "V26          0.4642194  0.2543255   1.825 0.067956 .  \n",
       "V27         -0.9457944  0.1430763  -6.610 3.83e-11 ***\n",
       "V28         -0.4169076  0.1452380  -2.871 0.004098 ** \n",
       "Amount       0.0014595  0.0006763   2.158 0.030920 *  \n",
       "---\n",
       "Signif. codes:  0 ‘***’ 0.001 ‘**’ 0.01 ‘*’ 0.05 ‘.’ 0.1 ‘ ’ 1\n",
       "\n",
       "(Dispersion parameter for binomial family taken to be 1)\n",
       "\n",
       "    Null deviance: 4342.9  on 170883  degrees of freedom\n",
       "Residual deviance: 1364.4  on 170854  degrees of freedom\n",
       "AIC: 1424.4\n",
       "\n",
       "Number of Fisher Scoring iterations: 12\n"
      ]
     },
     "metadata": {},
     "output_type": "display_data"
    }
   ],
   "source": [
    "summary(model1)\n",
    "summary(model2)"
   ]
  },
  {
   "cell_type": "markdown",
   "metadata": {
    "_cell_guid": "5faeeb93-ba83-4c84-ae6e-087bba5137ff",
    "_execution_state": "idle",
    "_uuid": "29208f57c2cea59636068ea5bf99c0eac4e4dab8"
   },
   "source": [
    "**Goodness of Fit**"
   ]
  },
  {
   "cell_type": "code",
   "execution_count": 11,
   "metadata": {
    "_cell_guid": "8dc39ab2-9219-42a9-84c4-845b2ca543dd",
    "_execution_state": "idle",
    "_uuid": "40037db6f6d77650aa8db1128a698b9a17bef897"
   },
   "outputs": [
    {
     "data": {
      "text/html": [
       "<table>\n",
       "<thead><tr><th scope=col>deltaDmodel1</th><th scope=col>deltaDmodel2</th><th scope=col>pseudoR2model1</th><th scope=col>pseudoR2model2</th></tr></thead>\n",
       "<tbody>\n",
       "\t<tr><td>2061.743 </td><td>2978.495 </td><td>0.7110615</td><td>0.6858259</td></tr>\n",
       "</tbody>\n",
       "</table>\n"
      ],
      "text/latex": [
       "\\begin{tabular}{llll}\n",
       " deltaDmodel1 & deltaDmodel2 & pseudoR2model1 & pseudoR2model2\\\\\n",
       "\\hline\n",
       "\t 2061.743  & 2978.495  & 0.7110615 & 0.6858259\\\\\n",
       "\\end{tabular}\n"
      ],
      "text/markdown": [
       "\n",
       "deltaDmodel1 | deltaDmodel2 | pseudoR2model1 | pseudoR2model2 | \n",
       "|---|\n",
       "| 2061.743  | 2978.495  | 0.7110615 | 0.6858259 | \n",
       "\n",
       "\n"
      ],
      "text/plain": [
       "     deltaDmodel1 deltaDmodel2 pseudoR2model1 pseudoR2model2\n",
       "[1,] 2061.743     2978.495     0.7110615      0.6858259     "
      ]
     },
     "metadata": {},
     "output_type": "display_data"
    }
   ],
   "source": [
    "deltaDmodel1= abs(model1$null.deviance-model1$deviance)\n",
    "\n",
    "pvaluemodel1= pchisq(deltaDmodel1, df=abs(model1$.residual-model1$df.null))\n",
    "\n",
    "pseudoR2model1=1-deviance(model1)/model1$null.deviance\n",
    "\n",
    "\n",
    "deltaDmodel2= abs(model2$null.deviance-model2$deviance)\n",
    "\n",
    "pvaluemodel2=pchisq(deltaDmodel2, df=abs(model2$.residual-model2$df.null), lower.tail=FALSE)\n",
    "\n",
    "pseudoR2model2=1-deviance(model2)/model2$null.deviance\n",
    "\n",
    "cbind(deltaDmodel1,deltaDmodel2, pvaluemodel1, pvaluemodel2, pseudoR2model1, pseudoR2model2)\n"
   ]
  },
  {
   "cell_type": "markdown",
   "metadata": {
    "_cell_guid": "40fbdc5d-9b37-43f2-9bee-e2ffddc8896b",
    "_execution_state": "idle",
    "_uuid": "b32b81e98b76e0f2ed6bd8a87a716e11b3a9dc6e"
   },
   "source": [
    "Predict"
   ]
  },
  {
   "cell_type": "code",
   "execution_count": 12,
   "metadata": {
    "_cell_guid": "1847e3b9-f943-4917-bf9b-ce453a3907e1",
    "_execution_state": "idle",
    "_uuid": "f4de82b1b0118ffb99d000090d419434c87fb957"
   },
   "outputs": [],
   "source": [
    "predModel1=as.vector(predict(model1, type=c(\"response\")))\n",
    "predModel2=as.vector(predict(model2, type=c(\"response\")))"
   ]
  },
  {
   "cell_type": "code",
   "execution_count": 13,
   "metadata": {
    "_cell_guid": "265e582e-d6f0-449e-b6a1-f11130d353b1",
    "_execution_state": "idle",
    "_uuid": "e04831b9b2e85d1a6dc175702630ae776e0cbbea"
   },
   "outputs": [
    {
     "data": {
      "image/png": "[encoded data removed]"
     },
     "metadata": {},
     "output_type": "display_data"
    },
    {
     "data": {
      "image/png": "[encoded data removed]"
     },
     "metadata": {},
     "output_type": "display_data"
    }
   ],
   "source": [
    "hist(predModel1)\n",
    "hist(predModel2)"
   ]
  },
  {
   "cell_type": "markdown",
   "metadata": {
    "_cell_guid": "ad0d0dc7-089f-40c1-835d-59b209b45018",
    "_execution_state": "idle",
    "_uuid": "e98b1ab9822a932cc7ce70d30e8c16e80db212af"
   },
   "source": [
    "Confusion Matrix"
   ]
  },
  {
   "cell_type": "code",
   "execution_count": 14,
   "metadata": {
    "_cell_guid": "8ac59aaa-c4cf-486e-b43c-99e0606693f8",
    "_execution_state": "idle",
    "_uuid": "92c26f5c314466d14345c3c2d13457c0ad0a43bb"
   },
   "outputs": [],
   "source": [
    "classModel1=1*(predModel1>0.50)\n",
    "classModel2=1*(predModel2>0.50)"
   ]
  },
  {
   "cell_type": "code",
   "execution_count": 15,
   "metadata": {
    "_cell_guid": "4c6cbd66-407f-4343-a25f-65fb11b10f17",
    "_execution_state": "idle",
    "_uuid": "37473595d21bdcac61b98f09f174666d59b7c864"
   },
   "outputs": [
    {
     "data": {
      "text/plain": [
       "           \n",
       "classModel1      0      1\n",
       "          0 113710     66\n",
       "          1     16    131"
      ]
     },
     "metadata": {},
     "output_type": "display_data"
    },
    {
     "data": {
      "text/plain": [
       "           \n",
       "classModel2      0      1\n",
       "          0 170563    116\n",
       "          1     26    179"
      ]
     },
     "metadata": {},
     "output_type": "display_data"
    }
   ],
   "source": [
    "table(classModel1, train$Class)\n",
    "table(classModel2, test$Class)"
   ]
  },
  {
   "cell_type": "code",
   "execution_count": 16,
   "metadata": {
    "_cell_guid": "6117f007-866c-4d37-ae55-aa117a68fb99",
    "_execution_state": "idle",
    "_uuid": "c057ef4fde59bad385e97267bb81b8d0f0fa71f2"
   },
   "outputs": [],
   "source": [
    "a=table(classModel1, train$Class)\n",
    "b=table(classModel2, test$Class)"
   ]
  },
  {
   "cell_type": "code",
   "execution_count": 17,
   "metadata": {
    "_cell_guid": "97a85d0d-504a-432a-9618-3e7609c52c15",
    "_execution_state": "idle",
    "_uuid": "20db8e947b3d212e42205e826e226fba346b5138"
   },
   "outputs": [],
   "source": [
    "accuracyTrain=(a[1,1]+ a[2,2])/length(train$Class)\n",
    "accuracyTest= (b[1,1]+b[2,2])/length(test$Class)"
   ]
  },
  {
   "cell_type": "code",
   "execution_count": 18,
   "metadata": {
    "_cell_guid": "b09d1836-fb51-45f8-b4b0-923b9a269337",
    "_execution_state": "idle",
    "_uuid": "3b05c9b6a93567decd26a36c55102e889a98889f"
   },
   "outputs": [],
   "source": [
    "ErrorTrain= 1-accuracyTrain\n",
    "ErrorTest= 1-accuracyTest"
   ]
  },
  {
   "cell_type": "code",
   "execution_count": 19,
   "metadata": {
    "_cell_guid": "7435ebe6-592b-4fd6-9b9a-2ecbd7b85f53",
    "_execution_state": "idle",
    "_uuid": "342210023e145ee27f729f0dc114c88544c0cacc"
   },
   "outputs": [
    {
     "data": {
      "text/html": [
       "<table>\n",
       "<thead><tr><th scope=col>accuracyTest</th><th scope=col>accuracyTrain</th><th scope=col>ErrorTest</th><th scope=col>ErrorTrain</th></tr></thead>\n",
       "<tbody>\n",
       "\t<tr><td>0.999169    </td><td>0.9992802   </td><td>0.0008309731</td><td>0.0007197844</td></tr>\n",
       "</tbody>\n",
       "</table>\n"
      ],
      "text/latex": [
       "\\begin{tabular}{llll}\n",
       " accuracyTest & accuracyTrain & ErrorTest & ErrorTrain\\\\\n",
       "\\hline\n",
       "\t 0.999169     & 0.9992802    & 0.0008309731 & 0.0007197844\\\\\n",
       "\\end{tabular}\n"
      ],
      "text/markdown": [
       "\n",
       "accuracyTest | accuracyTrain | ErrorTest | ErrorTrain | \n",
       "|---|\n",
       "| 0.999169     | 0.9992802    | 0.0008309731 | 0.0007197844 | \n",
       "\n",
       "\n"
      ],
      "text/plain": [
       "     accuracyTest accuracyTrain ErrorTest    ErrorTrain  \n",
       "[1,] 0.999169     0.9992802     0.0008309731 0.0007197844"
      ]
     },
     "metadata": {},
     "output_type": "display_data"
    }
   ],
   "source": [
    "cbind(accuracyTest, accuracyTrain, ErrorTest, ErrorTrain)"
   ]
  },
  {
   "cell_type": "markdown",
   "metadata": {
    "_cell_guid": "048bcd9a-124a-47bd-8e8b-86505e828ca6",
    "_execution_state": "idle",
    "_uuid": "2165bdfa29f7e9cc565598dcfabeaa6878af91e7"
   },
   "source": [
    "ROC curve"
   ]
  },
  {
   "cell_type": "code",
   "execution_count": 20,
   "metadata": {
    "_cell_guid": "254af4d0-a5d5-4c78-b6d2-419e929841e3",
    "_execution_state": "idle",
    "_uuid": "e5185996a932d4aace5cc0f2a482eafda3f83bee"
   },
   "outputs": [
    {
     "data": {
      "image/png": "[encoded data removed]"
     },
     "metadata": {},
     "output_type": "display_data"
    },
    {
     "data": {
      "image/png": "[encoded data removed]"
     },
     "metadata": {},
     "output_type": "display_data"
    }
   ],
   "source": [
    "plot.roc(classModel1, train$Class)\n",
    "plot.roc(classModel2, test$Class)"
   ]
  }
 ],
 "metadata": {
  "kernelspec": {
   "display_name": "R",
   "language": "R",
   "name": "ir"
  },
  "language_info": {
   "codemirror_mode": "r",
   "file_extension": ".r",
   "mimetype": "text/x-r-source",
   "name": "R",
   "pygments_lexer": "r",
   "version": "3.4.1"
  }
 },
 "nbformat": 4,
 "nbformat_minor": 1
}
