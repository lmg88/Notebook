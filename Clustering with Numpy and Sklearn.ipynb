{
 "cells": [
  {
   "cell_type": "markdown",
   "metadata": {},
   "source": [
    "<center>\n",
    "<img src=\"./Images/logo_instance.png\" />\n",
    "<h1>Data Mining and Machine Learning</h1>\n",
    "<h2><em>Master in Data Science</em></h2>\n",
    "<br />\n",
    "<h2>Lab session 4: Clustering in Python</h2>\n",
    "</center>"
   ]
  },
  {
   "cell_type": "markdown",
   "metadata": {},
   "source": [
    "## Example 1 - Self-coded K-means in NumPy"
   ]
  },
  {
   "cell_type": "markdown",
   "metadata": {},
   "source": [
    "We start by generating some random points in three distinct clusters:"
   ]
  },
  {
   "cell_type": "code",
   "execution_count": 1,
   "metadata": {
    "collapsed": false
   },
   "outputs": [],
   "source": [
    "import numpy as np\n",
    "np.random.seed(1)\n",
    "X = np.vstack(((np.random.randn(30, 2) * 0.75 \\\n",
    "                            + np.array([2, 0])),\n",
    "                  (np.random.randn(15, 2) * 0.25\\\n",
    "                           + np.array([-1.5, 0.5])),\n",
    "                  (np.random.randn(30, 2) * 0.5 \\\n",
    "                           + np.array([-0.5, -1.5]))))"
   ]
  },
  {
   "cell_type": "code",
   "execution_count": 10,
   "metadata": {
    "collapsed": false
   },
   "outputs": [
    {
     "name": "stdout",
     "output_type": "stream",
     "text": [
      "[[ 3.21825902 -0.45881731]\n",
      " [ 1.60387119 -0.80472647]]\n"
     ]
    }
   ],
   "source": [
    "print(X[:2])"
   ]
  },
  {
   "cell_type": "code",
   "execution_count": 2,
   "metadata": {
    "collapsed": false
   },
   "outputs": [
    {
     "data": {
      "image/png": "[encoded data removed]",
      "text/plain": [
       "<matplotlib.figure.Figure at 0x70b2e48>"
      ]
     },
     "metadata": {},
     "output_type": "display_data"
    }
   ],
   "source": [
    "# Plot the points with different colors in the clusters\n",
    "import matplotlib.pyplot as plt\n",
    "plt.figure()\n",
    "plt.grid()\n",
    "plt.scatter(X[0:30, 0], X[0:30, 1], marker='o')\n",
    "plt.scatter(X[30:45, 0], X[30:45, 1], marker='x')\n",
    "plt.scatter(X[45:, 0], X[45:, 1], marker='d')\n",
    "\n",
    "plt.box(on=True)\n",
    "plt.tight_layout()\n",
    "plt.show()"
   ]
  },
  {
   "cell_type": "code",
   "execution_count": 3,
   "metadata": {
    "collapsed": true
   },
   "outputs": [],
   "source": [
    "# Select randomly K centroids from the dataset\n",
    "K = 3\n",
    "idx = np.random.choice(X.shape[0], K, replace=False)\n",
    "centroids = X[idx,:].copy()"
   ]
  },
  {
   "cell_type": "code",
   "execution_count": 4,
   "metadata": {
    "collapsed": true
   },
   "outputs": [],
   "source": [
    "# We define a simple function to plot the data\n",
    "def plot_data(X, centroids):\n",
    "    plt.figure()\n",
    "    plt.grid()\n",
    "    plt.scatter(X[:, 0], X[:, 1])\n",
    "    plt.scatter(centroids[:, 0], centroids[:, 1], \\\n",
    "                c='r', s=100)\n",
    "    plt.box(on=True)\n",
    "    plt.tight_layout()\n",
    "    plt.show()"
   ]
  },
  {
   "cell_type": "code",
   "execution_count": 5,
   "metadata": {
    "collapsed": false
   },
   "outputs": [
    {
     "data": {
      "image/png": "[encoded data removed]",
      "text/plain": [
       "<matplotlib.figure.Figure at 0x70b2cf8>"
      ]
     },
     "metadata": {},
     "output_type": "display_data"
    }
   ],
   "source": [
    "plot_data(X, centroids)"
   ]
  },
  {
   "cell_type": "code",
   "execution_count": 6,
   "metadata": {
    "collapsed": true
   },
   "outputs": [],
   "source": [
    "# E-step: assign points to the closest centroid\n",
    "def e_step(X, centroids):\n",
    "    distances = np.sqrt(((X - \\\n",
    "            centroids[:, np.newaxis])**2).sum(axis=2))\n",
    "    return np.argmin(distances, axis=0)"
   ]
  },
  {
   "cell_type": "code",
   "execution_count": 7,
   "metadata": {
    "collapsed": true
   },
   "outputs": [],
   "source": [
    "# M-step: find the most probable values for the centroids\n",
    "def m_step(X, assignments, centroids):\n",
    "    return np.array(\\\n",
    "        [X[assignments==k].mean(axis=0) \\\n",
    "         for k in range(centroids.shape[0])])"
   ]
  },
  {
   "cell_type": "code",
   "execution_count": 8,
   "metadata": {
    "collapsed": false
   },
   "outputs": [],
   "source": [
    "# Iterate several times to perform K-means clustering\n",
    "for _ in range(30):\n",
    "    assignments = e_step(X, centroids)\n",
    "    centroids = m_step(X, assignments, centroids)"
   ]
  },
  {
   "cell_type": "code",
   "execution_count": 9,
   "metadata": {
    "collapsed": false
   },
   "outputs": [
    {
     "data": {
      "image/png": "[encoded data removed]",
      "text/plain": [
       "<matplotlib.figure.Figure at 0x4dd7080>"
      ]
     },
     "metadata": {},
     "output_type": "display_data"
    }
   ],
   "source": [
    "# Plot results\n",
    "plot_data(X, centroids)"
   ]
  },
  {
   "cell_type": "markdown",
   "metadata": {},
   "source": [
    "## Example 2 - Clustering in scikit-learn"
   ]
  },
  {
   "cell_type": "markdown",
   "metadata": {},
   "source": [
    "[Clustering in scikit-learn](http://scikit-learn.org/stable/modules/clustering.html)"
   ]
  },
  {
   "cell_type": "code",
   "execution_count": 10,
   "metadata": {
    "collapsed": false
   },
   "outputs": [
    {
     "data": {
      "text/plain": [
       "KMeans(algorithm='auto', copy_x=True, init='k-means++', max_iter=300,\n",
       "    n_clusters=3, n_init=10, n_jobs=1, precompute_distances='auto',\n",
       "    random_state=None, tol=0.0001, verbose=0)"
      ]
     },
     "execution_count": 10,
     "metadata": {},
     "output_type": "execute_result"
    }
   ],
   "source": [
    "from sklearn import cluster, datasets\n",
    "\n",
    "# Run the K-Means clustering algorithm on a very simple dataset\n",
    "\n",
    "# Load data\n",
    "iris = datasets.load_iris()\n",
    "X_iris = iris.data\n",
    "y_iris = iris.target\n",
    "\n",
    "# Cluster using K-Means\n",
    "np.random.seed(1)\n",
    "k_means = cluster.KMeans(n_clusters=3)\n",
    "k_means.fit(X_iris) "
   ]
  },
  {
   "cell_type": "code",
   "execution_count": 11,
   "metadata": {
    "collapsed": false
   },
   "outputs": [],
   "source": [
    "# We project to a 2D space using PCA and plot the results\n",
    "from sklearn import decomposition\n",
    "pca = decomposition.PCA(n_components=2)\n",
    "X_pca = pca.fit_transform(X_iris)"
   ]
  },
  {
   "cell_type": "code",
   "execution_count": 12,
   "metadata": {
    "collapsed": true
   },
   "outputs": [],
   "source": [
    "# Get a colors matrix\n",
    "import brewer2mpl\n",
    "bmap = brewer2mpl.get_map('Set1', 'qualitative', 3)\n",
    "colors = bmap.mpl_colors"
   ]
  },
  {
   "cell_type": "code",
   "execution_count": 13,
   "metadata": {
    "collapsed": false
   },
   "outputs": [
    {
     "data": {
      "image/png": "[encoded data removed]",
      "text/plain": [
       "<matplotlib.figure.Figure at 0xa439a90>"
      ]
     },
     "metadata": {},
     "output_type": "display_data"
    }
   ],
   "source": [
    "plt.figure()\n",
    "centroids_pca = pca.transform(k_means.cluster_centers_)\n",
    "for (i,centroid) in \\\n",
    "        zip(range(k_means.n_clusters), centroids_pca):\n",
    "    plt.scatter(centroid[0], centroid[1], c='r', s=100)\n",
    "    plt.scatter(X_pca[y_iris==i, 0], X_pca[y_iris==i, 1], color=colors[i])\n",
    "plt.show()"
   ]
  },
  {
   "cell_type": "code",
   "execution_count": 14,
   "metadata": {
    "collapsed": false
   },
   "outputs": [],
   "source": [
    "# We cycle through K = 2, ..., 11 and compute one internal index and one external index\n",
    "from sklearn import metrics\n",
    "k_range = np.arange(10)\n",
    "silhouette = np.zeros(10)\n",
    "adj_rand = np.zeros(10)\n",
    "for k in k_range:\n",
    "    k_means = cluster.KMeans(n_clusters=k+2).fit(X_iris)\n",
    "    silhouette[k] = \\\n",
    "        metrics.silhouette_score(X_iris, k_means.labels_, metric='euclidean')\n",
    "    adj_rand[k] = \\\n",
    "        metrics.adjusted_rand_score(y_iris, k_means.labels_)"
   ]
  },
  {
   "cell_type": "code",
   "execution_count": 15,
   "metadata": {
    "collapsed": false
   },
   "outputs": [
    {
     "data": {
      "image/png": "[encoded data removed]",
      "text/plain": [
       "<matplotlib.figure.Figure at 0xa49f7b8>"
      ]
     },
     "metadata": {},
     "output_type": "display_data"
    }
   ],
   "source": [
    "plt.figure()\n",
    "plt.plot(k_range + 2, silhouette, label='Silhouette')\n",
    "plt.plot(k_range + 2, adj_rand, label='Adjusted rand')\n",
    "leg = plt.legend()\n",
    "plt.xlabel('Number of clusters')\n",
    "plt.ylabel('Value of the index')\n",
    "plt.grid()\n",
    "plt.show()"
   ]
  },
  {
   "cell_type": "markdown",
   "metadata": {},
   "source": [
    "## Example 3 - Real world dataset"
   ]
  },
  {
   "cell_type": "markdown",
   "metadata": {},
   "source": [
    "We consider the list of proceedings from the NIPS conference:\n",
    "\n",
    "https://archive.ics.uci.edu/ml/datasets/NIPS+Conference+Papers+1987-2015\n",
    "\n",
    "Download the following file and load it by setting the correct path below:\n",
    "\n",
    "https://archive.ics.uci.edu/ml/machine-learning-databases/00371/NIPS_1987-2015.csv"
   ]
  },
  {
   "cell_type": "code",
   "execution_count": 16,
   "metadata": {
    "collapsed": false
   },
   "outputs": [],
   "source": [
    "# Load the dataset (only 1000 papers)\n",
    "import numpy as np\n",
    "import pandas as pd\n",
    "data = pd.read_csv('C:/Users/ISPAMM/Downloads/NIPS_1987-2015.csv', \\\n",
    "                   usecols=np.arange(1001))"
   ]
  },
  {
   "cell_type": "code",
   "execution_count": 17,
   "metadata": {
    "collapsed": false
   },
   "outputs": [
    {
     "data": {
      "text/plain": [
       "(11463, 1000)"
      ]
     },
     "execution_count": 17,
     "metadata": {},
     "output_type": "execute_result"
    }
   ],
   "source": [
    "# First column are words, the rest are the papers\n",
    "words = data.values[:,0]\n",
    "X = data.values[:, 1:]\n",
    "X.shape"
   ]
  },
  {
   "cell_type": "code",
   "execution_count": 18,
   "metadata": {
    "collapsed": false
   },
   "outputs": [],
   "source": [
    "# Find the average number of times a word appears\n",
    "freq = X.mean(axis=1)"
   ]
  },
  {
   "cell_type": "code",
   "execution_count": 19,
   "metadata": {
    "collapsed": false
   },
   "outputs": [],
   "source": [
    "# Sort the frequencies and only keep 250 most frequent words\n",
    "most_freq_idx = np.argsort(freq)[::-1][:250]\n",
    "X = X[most_freq_idx, :].T\n",
    "words = words[most_freq_idx]"
   ]
  },
  {
   "cell_type": "code",
   "execution_count": 20,
   "metadata": {
    "collapsed": false
   },
   "outputs": [
    {
     "name": "stderr",
     "output_type": "stream",
     "text": [
      "C:\\Users\\ISPAMM\\Anaconda3\\envs\\py35\\lib\\site-packages\\sklearn\\utils\\validation.py:429: DataConversionWarning: Data with input dtype object was converted to float64 by MinMaxScaler.\n",
      "  warnings.warn(msg, _DataConversionWarning)\n"
     ]
    }
   ],
   "source": [
    "# Preprocess\n",
    "from sklearn import preprocessing\n",
    "X = preprocessing.MinMaxScaler().fit_transform(X)"
   ]
  },
  {
   "cell_type": "code",
   "execution_count": 21,
   "metadata": {
    "collapsed": false
   },
   "outputs": [],
   "source": [
    "# Run K-means\n",
    "from sklearn import cluster\n",
    "kmeans = cluster.KMeans(n_clusters=10).fit(X)"
   ]
  },
  {
   "cell_type": "markdown",
   "metadata": {},
   "source": [
    "In order to understand which words are used in each cluster, we run a LASSO algorithm, using as targets the labels from the clustering."
   ]
  },
  {
   "cell_type": "code",
   "execution_count": 22,
   "metadata": {
    "collapsed": false
   },
   "outputs": [],
   "source": [
    "# Create target for LASSO\n",
    "y_hot = preprocessing.OneHotEncoder\\\n",
    "    (n_values=10, sparse=False)\\\n",
    "    .fit_transform(kmeans.labels_.reshape(-1, 1))"
   ]
  },
  {
   "cell_type": "code",
   "execution_count": 23,
   "metadata": {
    "collapsed": false
   },
   "outputs": [],
   "source": [
    "# Train a LASSO to distinguish between class 1 and all others\n",
    "from sklearn import linear_model, preprocessing\n",
    "lasso = linear_model.Lasso(alpha=10**-3).fit(X, y_hot)"
   ]
  },
  {
   "cell_type": "code",
   "execution_count": 24,
   "metadata": {
    "collapsed": false
   },
   "outputs": [
    {
     "data": {
      "text/plain": [
       "array(['using', 'system', 'models', 'recognition', 'probability', 'speech',\n",
       "       'experiments', 'corresponding', 'word', 'continuous', 'independent'], dtype=object)"
      ]
     },
     "execution_count": 24,
     "metadata": {},
     "output_type": "execute_result"
    }
   ],
   "source": [
    "# Coefficients of first cluster\n",
    "idx_first_cluster = lasso.coef_[0,:] > 10**-5\n",
    "words[idx_first_cluster]"
   ]
  },
  {
   "cell_type": "code",
   "execution_count": 25,
   "metadata": {
    "collapsed": false
   },
   "outputs": [
    {
     "data": {
      "text/plain": [
       "array(['using', 'weight', 'single', 'current', 'analog', 'circuit', 'chip'], dtype=object)"
      ]
     },
     "execution_count": 25,
     "metadata": {},
     "output_type": "execute_result"
    }
   ],
   "source": [
    "# Coefficients of second cluster\n",
    "idx_first_cluster = lasso.coef_[1,:] > 10**-5\n",
    "words[idx_first_cluster]"
   ]
  },
  {
   "cell_type": "code",
   "execution_count": 26,
   "metadata": {
    "collapsed": false
   },
   "outputs": [
    {
     "data": {
      "text/plain": [
       "array(['network', 'learning', 'system', 'performance', 'control', 'second',\n",
       "       'point', 'example', 'form', 'see', 'field', 'points', 'optimal',\n",
       "       'generalization', 'term', 'theory', 'dynamics', 'node', 'within',\n",
       "       'solution', 'corresponding', 'learn', 'position', 'terms',\n",
       "       'standard', 'dynamic', 'energy', 'required', 'simulation',\n",
       "       'connection'], dtype=object)"
      ]
     },
     "execution_count": 26,
     "metadata": {},
     "output_type": "execute_result"
    }
   ],
   "source": [
    "# Coefficients of fourth cluster\n",
    "idx_first_cluster = lasso.coef_[3,:] > 10**-5\n",
    "words[idx_first_cluster]"
   ]
  }
 ],
 "metadata": {
  "anaconda-cloud": {},
  "kernelspec": {
   "display_name": "Python 3",
   "language": "python",
   "name": "python3"
  },
  "language_info": {
   "codemirror_mode": {
    "name": "ipython",
    "version": 3
   },
   "file_extension": ".py",
   "mimetype": "text/x-python",
   "name": "python",
   "nbconvert_exporter": "python",
   "pygments_lexer": "ipython3",
   "version": "3.6.0"
  }
 },
 "nbformat": 4,
 "nbformat_minor": 1
}
